{
 "cells": [
  {
   "cell_type": "code",
   "execution_count": 1,
   "metadata": {},
   "outputs": [],
   "source": [
    "\n",
    "import pandas as pd\n",
    "import fasttext"
   ]
  },
  {
   "cell_type": "code",
   "execution_count": 2,
   "metadata": {},
   "outputs": [
    {
     "name": "stdout",
     "output_type": "stream",
     "text": [
      "0    আপনাদের কাছে একটাই অনুরোধ ক্যাশ আউট চার্জ টা এ...\n",
      "1    এরটেল এ্যাপ থেকে এমবি কিনছিলাম\\t\\tআর ওফার ছিলো...\n",
      "2                                                 good\n",
      "3    স্যার আমার সিম বন্ধ হয়ে গেছে এটা আবার নতুন করে...\n",
      "4    আপনারা নন বিকাশ একাউন্টে টাকা সেন্ড মানি করলে ...\n",
      "Name: message, dtype: object\n"
     ]
    }
   ],
   "source": [
    "# extract comments from csv file\n",
    "\n",
    "df = pd.read_csv('bkash_comments.csv', sep=';')\n",
    "df = df[df['message'].notna()]\n",
    "comments = df[\"message\"]\n",
    "print(comments.head())"
   ]
  },
  {
   "cell_type": "code",
   "execution_count": 3,
   "metadata": {},
   "outputs": [
    {
     "name": "stderr",
     "output_type": "stream",
     "text": [
      "Warning : `load_model` does not return WordVectorModel or SupervisedModel any more, but a `FastText` object which is very similar.\n"
     ]
    }
   ],
   "source": [
    "# using fasttext pretrained model\n",
    "\n",
    "PRETRAINED_MODEL_PATH = 'lid.176.bin'\n",
    "model = fasttext.load_model(PRETRAINED_MODEL_PATH)"
   ]
  },
  {
   "cell_type": "code",
   "execution_count": 4,
   "metadata": {},
   "outputs": [],
   "source": [
    "# extracting bangla comments\n",
    "bangla_comments = []\n",
    "\n",
    "for comment in comments:\n",
    "    # comment = ['আমার দেশ বাংলাদেশ']\n",
    "    prediction = model.predict(comment)\n",
    "    if prediction[0][0]== '__label__bn':\n",
    "        bangla_comments.append(comment)\n"
   ]
  },
  {
   "cell_type": "code",
   "execution_count": 8,
   "metadata": {},
   "outputs": [
    {
     "name": "stdout",
     "output_type": "stream",
     "text": [
      "আপনাদের কাছে একটাই অনুরোধ ক্যাশ আউট চার্জ টা একটু কমান তাছাড়া বিকাশ আমার খুব ভালো লাগে শুধু ক্যাশ আউট চার্জ টাই ভেজাল\n",
      "এরটেল এ্যাপ থেকে এমবি কিনছিলাম\t\tআর ওফার ছিলো ২-৪ টা এর ভিতরে কিনলে ২৫% ডিসকাউন্ট\t\tআর এ্যপ থেকে সরাসরি বিকাশে রিচার্জ করা হয়েছে।। কিন্তু আমি ত ডিসকাউন্ট পেলাম না সেই ক্ষেত্রে আমি কি করতে পারি\n",
      "স্যার আমার সিম বন্ধ হয়ে গেছে এটা আবার নতুন করে উঠায়ছি কিন্তু পুরাতন বিকাশ চালু হচ্ছে না কিন্তুু কেন?\n",
      "আপনারা নন বিকাশ একাউন্টে টাকা সেন্ড মানি করলে ১৫ টাকা দিচ্ছিলেন সে অফার কি বন্ধ\n",
      "একটা ইস্যু ক্রিয়েট করছিলাম গত মাসের ২৮ তারিখ কিন্তু এখনো কোন আপডেট পাইনি 😥 ইস্যু নং- 8180245\n",
      "11 টাকা রিচার্জে 16 টাকা ক্যাশব্যাক এই অফারটা আমি একবার নিয়েছি আবারো যদি নি তাহলে কি দেবে\n",
      "১১ টাকা রিচার্জ করে আমি কোন ক্যাশব্যাক অফার পাইনি\n",
      "ক্যশআউট চার্জটা কমান প্লিজ\n",
      "হ্যালো আসসালামুয়ালাইকুম সিম দিয়া বিকাশ তো একটাই খোলা জানালা দিয়া যদি আমি ওই সিমে বিকাশ আইডি কার্ড আইডি বাদ দিয়ে অন্য সিমে বিকাশ করা যাবে\n",
      "বিকাশ সিমের মালিকানা  পরিবর্তন করা যাবে??? কি ভাবে করতে পারি???\n",
      " বিকাশ  দিয়ে  পল্লী বিদ্যুৎ বিল দিলে কোন খরচ হবে কি না কোন চার্জ নাই একটু  বলবেন\n",
      "আমি তো পেয়েছি\n",
      "Disbursement মানে কী..? আমার কাছে DM1902 থেকে কিছু টাকা আসছে..... বিষয়টা বুঝিয়ে বলবেন\n",
      "রেফার করে অ্যাপ ডাউনলোড করছি কালকে\t\tকিন্তু বিকাশ খুলছি আজকে\t\tএখন আমি রেফার এর কমিশন পব।\n",
      "আচ্ছা ১১ টাকা রির্চাজে ১৬ টাকা ক্যাশব্যাকের অফারটা চলাকালীন সময়ে কতবার ক্যাশব্যাক পাবো???\n",
      "১১ টাকা রিচার্জে ১৬ টাকা  কেশবেক অফারটা কি আছে\n",
      "আপনারা নন বিকাশ একাউন্টে টাকা সেন্ড মানি করলে ১৫ টাকা দিচ্ছিলেন সে অফার কি বন্ধ\n",
      "১১ টাকা রিচার্জে ১৬ টাকা  কেশবেক অফারটা কি আছে\n",
      "11 টাকা রিচার্জে 16 টাকা ক্যাশব্যাক এই অফারটা আমি একবার নিয়েছি আবারো যদি নি তাহলে কি দেবে\n",
      "হ্যালো আসসালামুয়ালাইকুম সিম দিয়া বিকাশ তো একটাই খোলা জানালা দিয়া যদি আমি ওই সিমে বিকাশ আইডি কার্ড আইডি বাদ দিয়ে অন্য সিমে বিকাশ করা যাবে\n"
     ]
    }
   ],
   "source": [
    "for comm in range(0,20):\n",
    "    print(bangla_comments[comm])"
   ]
  }
 ],
 "metadata": {
  "kernelspec": {
   "display_name": "Python 3",
   "language": "python",
   "name": "python3"
  },
  "language_info": {
   "codemirror_mode": {
    "name": "ipython",
    "version": 3
   },
   "file_extension": ".py",
   "mimetype": "text/x-python",
   "name": "python",
   "nbconvert_exporter": "python",
   "pygments_lexer": "ipython3",
   "version": "3.8.5"
  }
 },
 "nbformat": 4,
 "nbformat_minor": 1
}
