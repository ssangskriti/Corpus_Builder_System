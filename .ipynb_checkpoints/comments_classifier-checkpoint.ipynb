{
 "cells": [
  {
   "cell_type": "code",
   "execution_count": 1,
   "metadata": {},
   "outputs": [],
   "source": [
    "from sklearn.feature_extraction.text import TfidfVectorizer\n",
    "from sklearn.cluster import KMeans\n",
    "import json"
   ]
  },
  {
   "cell_type": "code",
   "execution_count": 2,
   "metadata": {},
   "outputs": [
    {
     "name": "stdout",
     "output_type": "stream",
     "text": [
      "0    আপনাদের কাছে একটাই অনুরোধ ক্যাশ আউট চার্জ টা এ...\n",
      "1    এরটেল এ্যাপ থেকে এমবি কিনছিলাম\\t\\tআর ওফার ছিলো...\n",
      "2                                                 good\n",
      "3    স্যার আমার সিম বন্ধ হয়ে গেছে এটা আবার নতুন করে...\n",
      "4    আপনারা নন বিকাশ একাউন্টে টাকা সেন্ড মানি করলে ...\n",
      "Name: message, dtype: object\n"
     ]
    },
    {
     "name": "stderr",
     "output_type": "stream",
     "text": [
      "Warning : `load_model` does not return WordVectorModel or SupervisedModel any more, but a `FastText` object which is very similar.\n"
     ]
    }
   ],
   "source": [
    "from bangla_comments_separator import bangla_comments"
   ]
  },
  {
   "cell_type": "code",
   "execution_count": 3,
   "metadata": {},
   "outputs": [
    {
     "name": "stdout",
     "output_type": "stream",
     "text": [
      "আপনাদের কাছে একটাই অনুরোধ ক্যাশ আউট চার্জ টা একটু কমান তাছাড়া বিকাশ আমার খুব ভালো লাগে শুধু ক্যাশ আউট চার্জ টাই ভেজাল\n",
      "এরটেল এ্যাপ থেকে এমবি কিনছিলাম\t\tআর ওফার ছিলো ২-৪ টা এর ভিতরে কিনলে ২৫% ডিসকাউন্ট\t\tআর এ্যপ থেকে সরাসরি বিকাশে রিচার্জ করা হয়েছে।। কিন্তু আমি ত ডিসকাউন্ট পেলাম না সেই ক্ষেত্রে আমি কি করতে পারি\n",
      "স্যার আমার সিম বন্ধ হয়ে গেছে এটা আবার নতুন করে উঠায়ছি কিন্তু পুরাতন বিকাশ চালু হচ্ছে না কিন্তুু কেন?\n",
      "আপনারা নন বিকাশ একাউন্টে টাকা সেন্ড মানি করলে ১৫ টাকা দিচ্ছিলেন সে অফার কি বন্ধ\n",
      "একটা ইস্যু ক্রিয়েট করছিলাম গত মাসের ২৮ তারিখ কিন্তু এখনো কোন আপডেট পাইনি 😥 ইস্যু নং- 8180245\n",
      "ক্যশআউট চার্জটা কমান প্লিজ\n",
      "হ্যালো আসসালামুয়ালাইকুম সিম দিয়া বিকাশ তো একটাই খোলা জানালা দিয়া যদি আমি ওই সিমে বিকাশ আইডি কার্ড আইডি বাদ দিয়ে অন্য সিমে বিকাশ করা যাবে\n",
      "বিকাশ সিমের মালিকানা  পরিবর্তন করা যাবে??? কি ভাবে করতে পারি???\n",
      " বিকাশ  দিয়ে  পল্লী বিদ্যুৎ বিল দিলে কোন খরচ হবে কি না কোন চার্জ নাই একটু  বলবেন\n",
      "Disbursement মানে কী..? আমার কাছে DM1902 থেকে কিছু টাকা আসছে..... বিষয়টা বুঝিয়ে বলবেন\n",
      "11 টাকা রিচার্জে 16 টাকা ক্যাশব্যাক এই অফারটা আমি একবার নিয়েছি আবারো যদি নি তাহলে কি দেবে\n",
      "১১ টাকা রিচার্জ করে আমি কোন ক্যাশব্যাক অফার পাইনি\n",
      "আচ্ছা ১১ টাকা রির্চাজে ১৬ টাকা ক্যাশব্যাকের অফারটা চলাকালীন সময়ে কতবার ক্যাশব্যাক পাবো???\n",
      "১১ টাকা রিচার্জে ১৬ টাকা  কেশবেক অফারটা কি আছে\n",
      "১১ টাকা রিচার্জে ১৬ টাকা  কেশবেক অফারটা কি আছে\n",
      "11 টাকা রিচার্জে 16 টাকা ক্যাশব্যাক এই অফারটা আমি একবার নিয়েছি আবারো যদি নি তাহলে কি দেবে\n",
      "আচ্ছা ১১ টাকা রির্চাজে ১৬ টাকা ক্যাশব্যাকের অফারটা চলাকালীন সময়ে কতবার ক্যাশব্যাক পাবো???\n",
      "আচ্ছা ১১ টাকা রির্চাজে ১৬ টাকা ক্যাশব্যাকের অফারটা কি এখনো চালু আছে?\n",
      "আপনাদের রিচার্জ ক্যাশব্যাক অফার গুলো বলুন প্লিজ\n",
      "২৫ টাকা রিচাজ করলে ৫০ টাকা পাব???অফার টি আছে???\n",
      "আমি তো পেয়েছি\n",
      "আমি ৫ দিন হল পাইনি\tএর কারন কি?\n",
      "আমি এজেন্ট হতে চাই\n",
      "আমি ডাচ বাংলা ব্যাংক থেকে এড মানি করব কিভাবে \n",
      "আমি আজ রেফার করছি আমি কত টাকা পাবো আর আমি কবো বোনাস পাবে\n",
      "আমি কুইজ খেলে ৬ সেকেন্ড উওর দিছি।। এবং সাথে সাথে সেন্ড মানি করেছি কিন্তু বোনাস পাই নেই।।।কেনো আমাকে বলবেন\n",
      "আমার বিকাশে তো সমস্যা দেখা দিতেছে \n",
      "আমি যে ১১টাকা রিচার্জ করে ১৬ টাকা কেশ বেক পাইনাই যে\n",
      "আমি রেফার করেছি কিন্তু  টাকা পাইনি কেন?\n",
      "আমি বিকাশ অ্যাপ দিয়ে ২৫টাকা মোবাইল রিচাজ করিছি কিনতু কোন ক্যাশ ব্যাক পাইনি কেনো???\n"
     ]
    }
   ],
   "source": [
    "vectorizer = TfidfVectorizer()\n",
    "X = vectorizer.fit_transform(bangla_comments)\n",
    "\n",
    "k = 3\n",
    "model = KMeans(n_clusters=k, init='k-means++', max_iter=100, n_init=1)\n",
    "model.fit(X)\n",
    "\n",
    "\n",
    "def check_similarity(text):\n",
    "    y = vectorizer.transform([text])\n",
    "    prediction = model.predict(y)\n",
    "\n",
    "    if prediction == [0]:\n",
    "        return \"class1\"\n",
    "    elif prediction == [1]:\n",
    "        return \"class2\"\n",
    "    else:\n",
    "        return \"class3\"\n",
    "\n",
    "\n",
    "classified = {\n",
    "    \"class1\": [],\n",
    "    \"class2\": [],\n",
    "    \"class3\": []\n",
    "}\n",
    "\n",
    "for line in bangla_comments:\n",
    "    class_name = check_similarity(line)\n",
    "    classified[class_name].append(line)\n",
    "\n",
    "for cls in classified:\n",
    "    for comments in range(0,10):\n",
    "        print(classified[cls][comments])\n",
    "\n"
   ]
  },
  {
   "cell_type": "code",
   "execution_count": 7,
   "metadata": {},
   "outputs": [],
   "source": [
    "# dumping into a csv file\n",
    "with open(\"classified_comments.json\", 'w') as file:\n",
    "    json.dump(classified, file)"
   ]
  }
 ],
 "metadata": {
  "kernelspec": {
   "display_name": "Python 3",
   "language": "python",
   "name": "python3"
  },
  "language_info": {
   "codemirror_mode": {
    "name": "ipython",
    "version": 3
   },
   "file_extension": ".py",
   "mimetype": "text/x-python",
   "name": "python",
   "nbconvert_exporter": "python",
   "pygments_lexer": "ipython3",
   "version": "3.8.5"
  }
 },
 "nbformat": 4,
 "nbformat_minor": 4
}
